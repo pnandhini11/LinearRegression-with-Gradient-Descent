{
 "cells": [
  {
   "cell_type": "code",
   "execution_count": 9,
   "metadata": {
    "collapsed": false
   },
   "outputs": [
    {
     "name": "stdout",
     "output_type": "stream",
     "text": [
      "          0         1\n",
      "0    6.1101  17.59200\n",
      "1    5.5277   9.13020\n",
      "2    8.5186  13.66200\n",
      "3    7.0032  11.85400\n",
      "4    5.8598   6.82330\n",
      "5    8.3829  11.88600\n",
      "6    7.4764   4.34830\n",
      "7    8.5781  12.00000\n",
      "8    6.4862   6.59870\n",
      "9    5.0546   3.81660\n",
      "10   5.7107   3.25220\n",
      "11  14.1640  15.50500\n",
      "12   5.7340   3.15510\n",
      "13   8.4084   7.22580\n",
      "14   5.6407   0.71618\n",
      "15   5.3794   3.51290\n",
      "16   6.3654   5.30480\n",
      "17   5.1301   0.56077\n",
      "18   6.4296   3.65180\n",
      "19   7.0708   5.38930\n",
      "20   6.1891   3.13860\n",
      "21  20.2700  21.76700\n",
      "22   5.4901   4.26300\n",
      "23   6.3261   5.18750\n",
      "24   5.5649   3.08250\n",
      "25  18.9450  22.63800\n",
      "26  12.8280  13.50100\n",
      "27  10.9570   7.04670\n",
      "28  13.1760  14.69200\n",
      "29  22.2030  24.14700\n",
      "..      ...       ...\n",
      "67  10.2360   7.77540\n",
      "68   5.4994   1.01730\n",
      "69  20.3410  20.99200\n",
      "70  10.1360   6.67990\n",
      "71   7.3345   4.02590\n",
      "72   6.0062   1.27840\n",
      "73   7.2259   3.34110\n",
      "74   5.0269  -2.68070\n",
      "75   6.5479   0.29678\n",
      "76   7.5386   3.88450\n",
      "77   5.0365   5.70140\n",
      "78  10.2740   6.75260\n",
      "79   5.1077   2.05760\n",
      "80   5.7292   0.47953\n",
      "81   5.1884   0.20421\n",
      "82   6.3557   0.67861\n",
      "83   9.7687   7.54350\n",
      "84   6.5159   5.34360\n",
      "85   8.5172   4.24150\n",
      "86   9.1802   6.79810\n",
      "87   6.0020   0.92695\n",
      "88   5.5204   0.15200\n",
      "89   5.0594   2.82140\n",
      "90   5.7077   1.84510\n",
      "91   7.6366   4.29590\n",
      "92   5.8707   7.20290\n",
      "93   5.3054   1.98690\n",
      "94   8.2934   0.14454\n",
      "95  13.3940   9.05510\n",
      "96   5.4369   0.61705\n",
      "\n",
      "[97 rows x 2 columns]\n"
     ]
    }
   ],
   "source": [
    "import pandas as pd\n",
    "import numpy as np\n",
    "import os\n",
    "import matplotlib.pyplot as plt\n",
    "import math\n",
    "\n",
    "os.chdir('C:\\Github\\Linear_Regression')\n",
    "\n",
    "df = pd.read_csv('ex1data1.txt', header = None)\n",
    "\n",
    "print(df)"
   ]
  },
  {
   "cell_type": "code",
   "execution_count": 10,
   "metadata": {
    "collapsed": false
   },
   "outputs": [
    {
     "data": {
      "image/png": "[encoded data removed]",
      "text/plain": [
       "<matplotlib.figure.Figure at 0x9f97208>"
      ]
     },
     "metadata": {},
     "output_type": "display_data"
    }
   ],
   "source": [
    "plt.plot(df.iloc[:,0], df.iloc[:,1], \"x\")\n",
    "plt.show()"
   ]
  },
  {
   "cell_type": "code",
   "execution_count": 11,
   "metadata": {
    "collapsed": false
   },
   "outputs": [
    {
     "name": "stdout",
     "output_type": "stream",
     "text": [
      "0      6.1101\n",
      "1      5.5277\n",
      "2      8.5186\n",
      "3      7.0032\n",
      "4      5.8598\n",
      "5      8.3829\n",
      "6      7.4764\n",
      "7      8.5781\n",
      "8      6.4862\n",
      "9      5.0546\n",
      "10     5.7107\n",
      "11    14.1640\n",
      "12     5.7340\n",
      "13     8.4084\n",
      "14     5.6407\n",
      "15     5.3794\n",
      "16     6.3654\n",
      "17     5.1301\n",
      "18     6.4296\n",
      "19     7.0708\n",
      "20     6.1891\n",
      "21    20.2700\n",
      "22     5.4901\n",
      "23     6.3261\n",
      "24     5.5649\n",
      "25    18.9450\n",
      "26    12.8280\n",
      "27    10.9570\n",
      "28    13.1760\n",
      "29    22.2030\n",
      "       ...   \n",
      "67    10.2360\n",
      "68     5.4994\n",
      "69    20.3410\n",
      "70    10.1360\n",
      "71     7.3345\n",
      "72     6.0062\n",
      "73     7.2259\n",
      "74     5.0269\n",
      "75     6.5479\n",
      "76     7.5386\n",
      "77     5.0365\n",
      "78    10.2740\n",
      "79     5.1077\n",
      "80     5.7292\n",
      "81     5.1884\n",
      "82     6.3557\n",
      "83     9.7687\n",
      "84     6.5159\n",
      "85     8.5172\n",
      "86     9.1802\n",
      "87     6.0020\n",
      "88     5.5204\n",
      "89     5.0594\n",
      "90     5.7077\n",
      "91     7.6366\n",
      "92     5.8707\n",
      "93     5.3054\n",
      "94     8.2934\n",
      "95    13.3940\n",
      "96     5.4369\n",
      "Name: 0, dtype: float64\n",
      "0     17.59200\n",
      "1      9.13020\n",
      "2     13.66200\n",
      "3     11.85400\n",
      "4      6.82330\n",
      "5     11.88600\n",
      "6      4.34830\n",
      "7     12.00000\n",
      "8      6.59870\n",
      "9      3.81660\n",
      "10     3.25220\n",
      "11    15.50500\n",
      "12     3.15510\n",
      "13     7.22580\n",
      "14     0.71618\n",
      "15     3.51290\n",
      "16     5.30480\n",
      "17     0.56077\n",
      "18     3.65180\n",
      "19     5.38930\n",
      "20     3.13860\n",
      "21    21.76700\n",
      "22     4.26300\n",
      "23     5.18750\n",
      "24     3.08250\n",
      "25    22.63800\n",
      "26    13.50100\n",
      "27     7.04670\n",
      "28    14.69200\n",
      "29    24.14700\n",
      "        ...   \n",
      "67     7.77540\n",
      "68     1.01730\n",
      "69    20.99200\n",
      "70     6.67990\n",
      "71     4.02590\n",
      "72     1.27840\n",
      "73     3.34110\n",
      "74    -2.68070\n",
      "75     0.29678\n",
      "76     3.88450\n",
      "77     5.70140\n",
      "78     6.75260\n",
      "79     2.05760\n",
      "80     0.47953\n",
      "81     0.20421\n",
      "82     0.67861\n",
      "83     7.54350\n",
      "84     5.34360\n",
      "85     4.24150\n",
      "86     6.79810\n",
      "87     0.92695\n",
      "88     0.15200\n",
      "89     2.82140\n",
      "90     1.84510\n",
      "91     4.29590\n",
      "92     7.20290\n",
      "93     1.98690\n",
      "94     0.14454\n",
      "95     9.05510\n",
      "96     0.61705\n",
      "Name: 1, dtype: float64\n"
     ]
    }
   ],
   "source": [
    "X = df.iloc[:,0]\n",
    "y = df.iloc[:,1]\n",
    "print(X)\n",
    "print(y)"
   ]
  },
  {
   "cell_type": "code",
   "execution_count": 12,
   "metadata": {
    "collapsed": false
   },
   "outputs": [
    {
     "name": "stdout",
     "output_type": "stream",
     "text": [
      "8.1598\n",
      "5.83913505155\n",
      "3.86988352788\n",
      "5.51026225523\n",
      "0.904064264765\n"
     ]
    }
   ],
   "source": [
    "##Finding Mean and Standard Deviation and Correlation of X and y.\n",
    "\n",
    "X_mean = X.mean()\n",
    "y_mean = y.mean()\n",
    "X_std = X.std()\n",
    "y_std = y.std()\n",
    "\n",
    "Xy_corr = sum(X * y)/math.sqrt((sum(X**2))*(sum(y**2)))\n",
    "\n",
    "print(X_mean)\n",
    "print(y_mean)\n",
    "print(X_std)\n",
    "print(y_std)\n",
    "print(Xy_corr)"
   ]
  },
  {
   "cell_type": "code",
   "execution_count": 13,
   "metadata": {
    "collapsed": false
   },
   "outputs": [
    {
     "name": "stdout",
     "output_type": "stream",
     "text": [
      "0.646946412564\n",
      "0.560181714304\n"
     ]
    }
   ],
   "source": [
    "##Linear Regression formula : yhat = bX + A where  b is slope and A is intercept.\n",
    "\n",
    "##Calculation yhat , b and A using standard deviation and pearson correlation.\n",
    "\n",
    "\n",
    "b = Xy_corr*(y_mean/X_mean)\n",
    "\n",
    "A = y_mean - (b*X_mean)\n",
    "\n",
    "print(b)\n",
    "\n",
    "print(A)"
   ]
  },
  {
   "cell_type": "code",
   "execution_count": 14,
   "metadata": {
    "collapsed": false
   },
   "outputs": [
    {
     "name": "stdout",
     "output_type": "stream",
     "text": [
      "0      4.513089\n",
      "1      4.136307\n",
      "2      6.071259\n",
      "3      5.090877\n",
      "4      4.351158\n",
      "5      5.983469\n",
      "6      5.397012\n",
      "7      6.109753\n",
      "8      4.756406\n",
      "9      3.830237\n",
      "10     4.254699\n",
      "11     9.723531\n",
      "12     4.269772\n",
      "13     5.999966\n",
      "14     4.209412\n",
      "15     4.040365\n",
      "16     4.678254\n",
      "17     3.879082\n",
      "18     4.719788\n",
      "19     5.134610\n",
      "20     4.564198\n",
      "21    13.673785\n",
      "22     4.111982\n",
      "23     4.652829\n",
      "24     4.160374\n",
      "25    12.816582\n",
      "26     8.859210\n",
      "27     7.648774\n",
      "28     9.084348\n",
      "29    14.924333\n",
      "        ...    \n",
      "67     7.182325\n",
      "68     4.117999\n",
      "69    13.719719\n",
      "70     7.117631\n",
      "71     5.305210\n",
      "72     4.445871\n",
      "73     5.234952\n",
      "74     3.812317\n",
      "75     4.796322\n",
      "76     5.437252\n",
      "77     3.818527\n",
      "78     7.206909\n",
      "79     3.864590\n",
      "80     4.266667\n",
      "81     3.916798\n",
      "82     4.671979\n",
      "83     6.880007\n",
      "84     4.775620\n",
      "85     6.070354\n",
      "86     6.499279\n",
      "87     4.443154\n",
      "88     4.131585\n",
      "89     3.833342\n",
      "90     4.252758\n",
      "91     5.500653\n",
      "92     4.358210\n",
      "93     3.992491\n",
      "94     5.925567\n",
      "95     9.225382\n",
      "96     4.077565\n",
      "Name: 0, dtype: float64\n"
     ]
    }
   ],
   "source": [
    "##Calculating yhat using b and A.\n",
    "\n",
    "yhat = A + (b * X)\n",
    "\n",
    "print(yhat)"
   ]
  },
  {
   "cell_type": "code",
   "execution_count": 15,
   "metadata": {
    "collapsed": false
   },
   "outputs": [
    {
     "data": {
      "image/png": "[encoded data removed]",
      "text/plain": [
       "<matplotlib.figure.Figure at 0x9be3978>"
      ]
     },
     "metadata": {},
     "output_type": "display_data"
    }
   ],
   "source": [
    "plt.plot(df.iloc[:,0], df.iloc[:,1], \"x\")\n",
    "\n",
    "plt.plot(df.iloc[:,0], yhat, \"-\")\n",
    "\n",
    "plt.show()"
   ]
  },
  {
   "cell_type": "code",
   "execution_count": null,
   "metadata": {
    "collapsed": true
   },
   "outputs": [],
   "source": []
  }
 ],
 "metadata": {
  "kernelspec": {
   "display_name": "Python [default]",
   "language": "python",
   "name": "python2"
  },
  "language_info": {
   "codemirror_mode": {
    "name": "ipython",
    "version": 2
   },
   "file_extension": ".py",
   "mimetype": "text/x-python",
   "name": "python",
   "nbconvert_exporter": "python",
   "pygments_lexer": "ipython2",
   "version": "2.7.12"
  }
 },
 "nbformat": 4,
 "nbformat_minor": 1
}
